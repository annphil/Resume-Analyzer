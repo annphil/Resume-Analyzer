{
 "cells": [
  {
   "cell_type": "code",
   "execution_count": 1,
   "id": "a2a30d3e",
   "metadata": {
    "scrolled": true
   },
   "outputs": [],
   "source": [
    "import pandas as pd\n",
    "courses=pd.read_csv(\"./course.csv\")"
   ]
  },
  {
   "cell_type": "code",
   "execution_count": 2,
   "id": "07059acd",
   "metadata": {},
   "outputs": [
    {
     "data": {
      "text/html": [
       "<div>\n",
       "<style scoped>\n",
       "    .dataframe tbody tr th:only-of-type {\n",
       "        vertical-align: middle;\n",
       "    }\n",
       "\n",
       "    .dataframe tbody tr th {\n",
       "        vertical-align: top;\n",
       "    }\n",
       "\n",
       "    .dataframe thead th {\n",
       "        text-align: right;\n",
       "    }\n",
       "</style>\n",
       "<table border=\"1\" class=\"dataframe\">\n",
       "  <thead>\n",
       "    <tr style=\"text-align: right;\">\n",
       "      <th></th>\n",
       "      <th>id</th>\n",
       "      <th>skill</th>\n",
       "      <th>recommendation</th>\n",
       "    </tr>\n",
       "  </thead>\n",
       "  <tbody>\n",
       "    <tr>\n",
       "      <th>0</th>\n",
       "      <td>1</td>\n",
       "      <td>Python</td>\n",
       "      <td>Python for Beginners - Udemy</td>\n",
       "    </tr>\n",
       "    <tr>\n",
       "      <th>1</th>\n",
       "      <td>2</td>\n",
       "      <td>Java</td>\n",
       "      <td>Java Programming Masterclass for Software Deve...</td>\n",
       "    </tr>\n",
       "    <tr>\n",
       "      <th>2</th>\n",
       "      <td>3</td>\n",
       "      <td>JavaScript</td>\n",
       "      <td>JavaScript: The Complete Guide - Udemy</td>\n",
       "    </tr>\n",
       "    <tr>\n",
       "      <th>3</th>\n",
       "      <td>4</td>\n",
       "      <td>HTML/CSS</td>\n",
       "      <td>HTML and CSS for Beginners - Coursera</td>\n",
       "    </tr>\n",
       "    <tr>\n",
       "      <th>4</th>\n",
       "      <td>5</td>\n",
       "      <td>SQL</td>\n",
       "      <td>SQL for Data Science - edX</td>\n",
       "    </tr>\n",
       "    <tr>\n",
       "      <th>5</th>\n",
       "      <td>6</td>\n",
       "      <td>CPP</td>\n",
       "      <td>CPP Programming - Codecademy</td>\n",
       "    </tr>\n",
       "    <tr>\n",
       "      <th>6</th>\n",
       "      <td>7</td>\n",
       "      <td>Ruby</td>\n",
       "      <td>Ruby on Rails: An Introduction - Udemy</td>\n",
       "    </tr>\n",
       "    <tr>\n",
       "      <th>7</th>\n",
       "      <td>8</td>\n",
       "      <td>Git</td>\n",
       "      <td>Git Complete: The Definitive Step-By-Step Guid...</td>\n",
       "    </tr>\n",
       "    <tr>\n",
       "      <th>8</th>\n",
       "      <td>9</td>\n",
       "      <td>Agile Methodology</td>\n",
       "      <td>Agile Crash Course: Agile Project Management -...</td>\n",
       "    </tr>\n",
       "    <tr>\n",
       "      <th>9</th>\n",
       "      <td>10</td>\n",
       "      <td>Machine Learning</td>\n",
       "      <td>Machine Learning A-Z\\'99: Hands-On Python &amp; R ...</td>\n",
       "    </tr>\n",
       "    <tr>\n",
       "      <th>10</th>\n",
       "      <td>11</td>\n",
       "      <td>Data Analysis</td>\n",
       "      <td>Data Analysis and Visualization with Python - ...</td>\n",
       "    </tr>\n",
       "    <tr>\n",
       "      <th>11</th>\n",
       "      <td>12</td>\n",
       "      <td>Web Development</td>\n",
       "      <td>The Web Developer Bootcamp - Udemy</td>\n",
       "    </tr>\n",
       "    <tr>\n",
       "      <th>12</th>\n",
       "      <td>13</td>\n",
       "      <td>Mobile App Development</td>\n",
       "      <td>Android App Development Masterclass using Kotl...</td>\n",
       "    </tr>\n",
       "    <tr>\n",
       "      <th>13</th>\n",
       "      <td>14</td>\n",
       "      <td>DevOps</td>\n",
       "      <td>Learn DevOps: The Complete Kubernetes Course -...</td>\n",
       "    </tr>\n",
       "    <tr>\n",
       "      <th>14</th>\n",
       "      <td>15</td>\n",
       "      <td>Cloud Computing</td>\n",
       "      <td>AWS Certified Solutions Architect - Associate ...</td>\n",
       "    </tr>\n",
       "    <tr>\n",
       "      <th>15</th>\n",
       "      <td>16</td>\n",
       "      <td>Cybersecurity</td>\n",
       "      <td>The Complete Cybersecurity Course: Hackers Exp...</td>\n",
       "    </tr>\n",
       "    <tr>\n",
       "      <th>16</th>\n",
       "      <td>17</td>\n",
       "      <td>Data Science</td>\n",
       "      <td>Data Science and Machine Learning Bootcamp wit...</td>\n",
       "    </tr>\n",
       "    <tr>\n",
       "      <th>17</th>\n",
       "      <td>18</td>\n",
       "      <td>Artificial Intelligence</td>\n",
       "      <td>Artificial Intelligence A-Z\\'99: Learn How To ...</td>\n",
       "    </tr>\n",
       "    <tr>\n",
       "      <th>18</th>\n",
       "      <td>19</td>\n",
       "      <td>UI/UX Design</td>\n",
       "      <td>UI/UX Design with Adobe XD: Design &amp; Prototype...</td>\n",
       "    </tr>\n",
       "    <tr>\n",
       "      <th>19</th>\n",
       "      <td>20</td>\n",
       "      <td>Blockchain</td>\n",
       "      <td>Blockchain Basics: A Practical Approach - Cour...</td>\n",
       "    </tr>\n",
       "    <tr>\n",
       "      <th>20</th>\n",
       "      <td>21</td>\n",
       "      <td>Big Data</td>\n",
       "      <td>Hadoop and Spark: Big Data Analytics - Udemy</td>\n",
       "    </tr>\n",
       "    <tr>\n",
       "      <th>21</th>\n",
       "      <td>22</td>\n",
       "      <td>Networking</td>\n",
       "      <td>Computer Networking - Udacity</td>\n",
       "    </tr>\n",
       "    <tr>\n",
       "      <th>22</th>\n",
       "      <td>23</td>\n",
       "      <td>Software Testing</td>\n",
       "      <td>Software Testing Fundamentals - Udemy</td>\n",
       "    </tr>\n",
       "  </tbody>\n",
       "</table>\n",
       "</div>"
      ],
      "text/plain": [
       "    id                    skill  \\\n",
       "0    1                   Python   \n",
       "1    2                     Java   \n",
       "2    3               JavaScript   \n",
       "3    4                 HTML/CSS   \n",
       "4    5                      SQL   \n",
       "5    6                      CPP   \n",
       "6    7                     Ruby   \n",
       "7    8                      Git   \n",
       "8    9        Agile Methodology   \n",
       "9   10         Machine Learning   \n",
       "10  11            Data Analysis   \n",
       "11  12          Web Development   \n",
       "12  13   Mobile App Development   \n",
       "13  14                   DevOps   \n",
       "14  15          Cloud Computing   \n",
       "15  16            Cybersecurity   \n",
       "16  17             Data Science   \n",
       "17  18  Artificial Intelligence   \n",
       "18  19             UI/UX Design   \n",
       "19  20               Blockchain   \n",
       "20  21                 Big Data   \n",
       "21  22               Networking   \n",
       "22  23         Software Testing   \n",
       "\n",
       "                                       recommendation  \n",
       "0                        Python for Beginners - Udemy  \n",
       "1   Java Programming Masterclass for Software Deve...  \n",
       "2              JavaScript: The Complete Guide - Udemy  \n",
       "3               HTML and CSS for Beginners - Coursera  \n",
       "4                          SQL for Data Science - edX  \n",
       "5                        CPP Programming - Codecademy  \n",
       "6              Ruby on Rails: An Introduction - Udemy  \n",
       "7   Git Complete: The Definitive Step-By-Step Guid...  \n",
       "8   Agile Crash Course: Agile Project Management -...  \n",
       "9   Machine Learning A-Z\\'99: Hands-On Python & R ...  \n",
       "10  Data Analysis and Visualization with Python - ...  \n",
       "11                 The Web Developer Bootcamp - Udemy  \n",
       "12  Android App Development Masterclass using Kotl...  \n",
       "13  Learn DevOps: The Complete Kubernetes Course -...  \n",
       "14  AWS Certified Solutions Architect - Associate ...  \n",
       "15  The Complete Cybersecurity Course: Hackers Exp...  \n",
       "16  Data Science and Machine Learning Bootcamp wit...  \n",
       "17  Artificial Intelligence A-Z\\'99: Learn How To ...  \n",
       "18  UI/UX Design with Adobe XD: Design & Prototype...  \n",
       "19  Blockchain Basics: A Practical Approach - Cour...  \n",
       "20       Hadoop and Spark: Big Data Analytics - Udemy  \n",
       "21                      Computer Networking - Udacity  \n",
       "22              Software Testing Fundamentals - Udemy  "
      ]
     },
     "execution_count": 2,
     "metadata": {},
     "output_type": "execute_result"
    }
   ],
   "source": [
    "courses"
   ]
  },
  {
   "cell_type": "code",
   "execution_count": 3,
   "id": "9a6d9f2f",
   "metadata": {},
   "outputs": [
    {
     "data": {
      "text/html": [
       "<div>\n",
       "<style scoped>\n",
       "    .dataframe tbody tr th:only-of-type {\n",
       "        vertical-align: middle;\n",
       "    }\n",
       "\n",
       "    .dataframe tbody tr th {\n",
       "        vertical-align: top;\n",
       "    }\n",
       "\n",
       "    .dataframe thead th {\n",
       "        text-align: right;\n",
       "    }\n",
       "</style>\n",
       "<table border=\"1\" class=\"dataframe\">\n",
       "  <thead>\n",
       "    <tr style=\"text-align: right;\">\n",
       "      <th></th>\n",
       "      <th>id</th>\n",
       "      <th>skill</th>\n",
       "      <th>recommendation</th>\n",
       "    </tr>\n",
       "  </thead>\n",
       "  <tbody>\n",
       "    <tr>\n",
       "      <th>0</th>\n",
       "      <td>1</td>\n",
       "      <td>Python</td>\n",
       "      <td>Python for Beginners - Udemy</td>\n",
       "    </tr>\n",
       "    <tr>\n",
       "      <th>1</th>\n",
       "      <td>2</td>\n",
       "      <td>Java</td>\n",
       "      <td>Java Programming Masterclass for Software Deve...</td>\n",
       "    </tr>\n",
       "    <tr>\n",
       "      <th>2</th>\n",
       "      <td>3</td>\n",
       "      <td>JavaScript</td>\n",
       "      <td>JavaScript: The Complete Guide - Udemy</td>\n",
       "    </tr>\n",
       "    <tr>\n",
       "      <th>3</th>\n",
       "      <td>4</td>\n",
       "      <td>HTML/CSS</td>\n",
       "      <td>HTML and CSS for Beginners - Coursera</td>\n",
       "    </tr>\n",
       "    <tr>\n",
       "      <th>4</th>\n",
       "      <td>5</td>\n",
       "      <td>SQL</td>\n",
       "      <td>SQL for Data Science - edX</td>\n",
       "    </tr>\n",
       "  </tbody>\n",
       "</table>\n",
       "</div>"
      ],
      "text/plain": [
       "   id       skill                                     recommendation\n",
       "0   1      Python                       Python for Beginners - Udemy\n",
       "1   2        Java  Java Programming Masterclass for Software Deve...\n",
       "2   3  JavaScript             JavaScript: The Complete Guide - Udemy\n",
       "3   4    HTML/CSS              HTML and CSS for Beginners - Coursera\n",
       "4   5         SQL                         SQL for Data Science - edX"
      ]
     },
     "execution_count": 3,
     "metadata": {},
     "output_type": "execute_result"
    }
   ],
   "source": [
    "courses.head()"
   ]
  },
  {
   "cell_type": "code",
   "execution_count": 4,
   "id": "b572c1ef",
   "metadata": {},
   "outputs": [
    {
     "name": "stdout",
     "output_type": "stream",
     "text": [
      "Requirement already satisfied: scikit-learn in /Users/netanyajaison/miniforge3/lib/python3.9/site-packages (1.2.2)\n",
      "Requirement already satisfied: numpy>=1.17.3 in /Users/netanyajaison/miniforge3/lib/python3.9/site-packages (from scikit-learn) (1.24.3)\n",
      "Requirement already satisfied: scipy>=1.3.2 in /Users/netanyajaison/miniforge3/lib/python3.9/site-packages (from scikit-learn) (1.10.1)\n",
      "Requirement already satisfied: joblib>=1.1.1 in /Users/netanyajaison/miniforge3/lib/python3.9/site-packages (from scikit-learn) (1.2.0)\n",
      "Requirement already satisfied: threadpoolctl>=2.0.0 in /Users/netanyajaison/miniforge3/lib/python3.9/site-packages (from scikit-learn) (3.1.0)\n",
      "Note: you may need to restart the kernel to use updated packages.\n"
     ]
    }
   ],
   "source": [
    "%pip install scikit-learn"
   ]
  },
  {
   "cell_type": "code",
   "execution_count": 5,
   "id": "25c63363",
   "metadata": {},
   "outputs": [],
   "source": [
    "from sklearn.feature_extraction.text import TfidfVectorizer\n",
    "vectorizer = TfidfVectorizer(ngram_range=(1,3))\n",
    "\n",
    "tfidf = vectorizer.fit_transform(courses[\"skill\"])"
   ]
  },
  {
   "cell_type": "code",
   "execution_count": 6,
   "id": "fb763b1e",
   "metadata": {},
   "outputs": [
    {
     "data": {
      "text/html": [
       "<div>\n",
       "<style scoped>\n",
       "    .dataframe tbody tr th:only-of-type {\n",
       "        vertical-align: middle;\n",
       "    }\n",
       "\n",
       "    .dataframe tbody tr th {\n",
       "        vertical-align: top;\n",
       "    }\n",
       "\n",
       "    .dataframe thead th {\n",
       "        text-align: right;\n",
       "    }\n",
       "</style>\n",
       "<table border=\"1\" class=\"dataframe\">\n",
       "  <thead>\n",
       "    <tr style=\"text-align: right;\">\n",
       "      <th></th>\n",
       "      <th>id</th>\n",
       "      <th>skill</th>\n",
       "      <th>recommendation</th>\n",
       "    </tr>\n",
       "  </thead>\n",
       "  <tbody>\n",
       "    <tr>\n",
       "      <th>0</th>\n",
       "      <td>1</td>\n",
       "      <td>Python</td>\n",
       "      <td>Python for Beginners - Udemy</td>\n",
       "    </tr>\n",
       "    <tr>\n",
       "      <th>1</th>\n",
       "      <td>2</td>\n",
       "      <td>Java</td>\n",
       "      <td>Java Programming Masterclass for Software Deve...</td>\n",
       "    </tr>\n",
       "    <tr>\n",
       "      <th>2</th>\n",
       "      <td>3</td>\n",
       "      <td>JavaScript</td>\n",
       "      <td>JavaScript: The Complete Guide - Udemy</td>\n",
       "    </tr>\n",
       "    <tr>\n",
       "      <th>3</th>\n",
       "      <td>4</td>\n",
       "      <td>HTML/CSS</td>\n",
       "      <td>HTML and CSS for Beginners - Coursera</td>\n",
       "    </tr>\n",
       "    <tr>\n",
       "      <th>4</th>\n",
       "      <td>5</td>\n",
       "      <td>SQL</td>\n",
       "      <td>SQL for Data Science - edX</td>\n",
       "    </tr>\n",
       "  </tbody>\n",
       "</table>\n",
       "</div>"
      ],
      "text/plain": [
       "   id       skill                                     recommendation\n",
       "0   1      Python                       Python for Beginners - Udemy\n",
       "1   2        Java  Java Programming Masterclass for Software Deve...\n",
       "2   3  JavaScript             JavaScript: The Complete Guide - Udemy\n",
       "3   4    HTML/CSS              HTML and CSS for Beginners - Coursera\n",
       "4   5         SQL                         SQL for Data Science - edX"
      ]
     },
     "execution_count": 6,
     "metadata": {},
     "output_type": "execute_result"
    }
   ],
   "source": [
    "courses.head()"
   ]
  },
  {
   "cell_type": "code",
   "execution_count": 7,
   "id": "479226c0",
   "metadata": {},
   "outputs": [
    {
     "name": "stdout",
     "output_type": "stream",
     "text": [
      "Requirement already satisfied: numpy in /Users/netanyajaison/miniforge3/lib/python3.9/site-packages (1.24.3)\r\n"
     ]
    }
   ],
   "source": [
    "!pip install numpy"
   ]
  },
  {
   "cell_type": "code",
   "execution_count": 8,
   "id": "34bef73b",
   "metadata": {},
   "outputs": [],
   "source": [
    "from sklearn.metrics.pairwise import cosine_similarity\n",
    "import numpy as np\n",
    "\n",
    "def search(skill):\n",
    "    skill = skill\n",
    "    query_vec = vectorizer.transform([skill])\n",
    "    similarity = cosine_similarity(query_vec, tfidf).flatten()\n",
    "    index = np.argmax(similarity)\n",
    "    results = courses.iloc[index]\n",
    "    \n",
    "    return results"
   ]
  },
  {
   "cell_type": "code",
   "execution_count": 9,
   "id": "ae54f78d",
   "metadata": {},
   "outputs": [
    {
     "name": "stdout",
     "output_type": "stream",
     "text": [
      "Requirement already satisfied: ipywidgets in /Users/netanyajaison/miniforge3/lib/python3.9/site-packages (8.0.6)\n",
      "Requirement already satisfied: ipykernel>=4.5.1 in /Users/netanyajaison/miniforge3/lib/python3.9/site-packages (from ipywidgets) (6.23.1)\n",
      "Requirement already satisfied: ipython>=6.1.0 in /Users/netanyajaison/miniforge3/lib/python3.9/site-packages (from ipywidgets) (8.13.2)\n",
      "Requirement already satisfied: traitlets>=4.3.1 in /Users/netanyajaison/miniforge3/lib/python3.9/site-packages (from ipywidgets) (5.9.0)\n",
      "Requirement already satisfied: widgetsnbextension~=4.0.7 in /Users/netanyajaison/miniforge3/lib/python3.9/site-packages (from ipywidgets) (4.0.7)\n",
      "Requirement already satisfied: jupyterlab-widgets~=3.0.7 in /Users/netanyajaison/miniforge3/lib/python3.9/site-packages (from ipywidgets) (3.0.7)\n",
      "Requirement already satisfied: appnope in /Users/netanyajaison/miniforge3/lib/python3.9/site-packages (from ipykernel>=4.5.1->ipywidgets) (0.1.3)\n",
      "Requirement already satisfied: comm>=0.1.1 in /Users/netanyajaison/miniforge3/lib/python3.9/site-packages (from ipykernel>=4.5.1->ipywidgets) (0.1.3)\n",
      "Requirement already satisfied: debugpy>=1.6.5 in /Users/netanyajaison/miniforge3/lib/python3.9/site-packages (from ipykernel>=4.5.1->ipywidgets) (1.6.7)\n",
      "Requirement already satisfied: jupyter-client>=6.1.12 in /Users/netanyajaison/miniforge3/lib/python3.9/site-packages (from ipykernel>=4.5.1->ipywidgets) (8.2.0)\n",
      "Requirement already satisfied: jupyter-core!=5.0.*,>=4.12 in /Users/netanyajaison/miniforge3/lib/python3.9/site-packages (from ipykernel>=4.5.1->ipywidgets) (5.3.0)\n",
      "Requirement already satisfied: matplotlib-inline>=0.1 in /Users/netanyajaison/miniforge3/lib/python3.9/site-packages (from ipykernel>=4.5.1->ipywidgets) (0.1.6)\n",
      "Requirement already satisfied: nest-asyncio in /Users/netanyajaison/miniforge3/lib/python3.9/site-packages (from ipykernel>=4.5.1->ipywidgets) (1.5.6)\n",
      "Requirement already satisfied: packaging in /Users/netanyajaison/miniforge3/lib/python3.9/site-packages (from ipykernel>=4.5.1->ipywidgets) (23.1)\n",
      "Requirement already satisfied: psutil in /Users/netanyajaison/miniforge3/lib/python3.9/site-packages (from ipykernel>=4.5.1->ipywidgets) (5.9.5)\n",
      "Requirement already satisfied: pyzmq>=20 in /Users/netanyajaison/miniforge3/lib/python3.9/site-packages (from ipykernel>=4.5.1->ipywidgets) (25.1.0)\n",
      "Requirement already satisfied: tornado>=6.1 in /Users/netanyajaison/miniforge3/lib/python3.9/site-packages (from ipykernel>=4.5.1->ipywidgets) (6.3.2)\n",
      "Requirement already satisfied: backcall in /Users/netanyajaison/miniforge3/lib/python3.9/site-packages (from ipython>=6.1.0->ipywidgets) (0.2.0)\n",
      "Requirement already satisfied: decorator in /Users/netanyajaison/miniforge3/lib/python3.9/site-packages (from ipython>=6.1.0->ipywidgets) (5.1.1)\n",
      "Requirement already satisfied: jedi>=0.16 in /Users/netanyajaison/miniforge3/lib/python3.9/site-packages (from ipython>=6.1.0->ipywidgets) (0.18.2)\n",
      "Requirement already satisfied: pickleshare in /Users/netanyajaison/miniforge3/lib/python3.9/site-packages (from ipython>=6.1.0->ipywidgets) (0.7.5)\n",
      "Requirement already satisfied: prompt-toolkit!=3.0.37,<3.1.0,>=3.0.30 in /Users/netanyajaison/miniforge3/lib/python3.9/site-packages (from ipython>=6.1.0->ipywidgets) (3.0.38)\n",
      "Requirement already satisfied: pygments>=2.4.0 in /Users/netanyajaison/miniforge3/lib/python3.9/site-packages (from ipython>=6.1.0->ipywidgets) (2.15.1)\n",
      "Requirement already satisfied: stack-data in /Users/netanyajaison/miniforge3/lib/python3.9/site-packages (from ipython>=6.1.0->ipywidgets) (0.6.2)\n",
      "Requirement already satisfied: typing-extensions in /Users/netanyajaison/miniforge3/lib/python3.9/site-packages (from ipython>=6.1.0->ipywidgets) (4.6.2)\n",
      "Requirement already satisfied: pexpect>4.3 in /Users/netanyajaison/miniforge3/lib/python3.9/site-packages (from ipython>=6.1.0->ipywidgets) (4.8.0)\n",
      "Requirement already satisfied: parso<0.9.0,>=0.8.0 in /Users/netanyajaison/miniforge3/lib/python3.9/site-packages (from jedi>=0.16->ipython>=6.1.0->ipywidgets) (0.8.3)\n",
      "Requirement already satisfied: importlib-metadata>=4.8.3 in /Users/netanyajaison/miniforge3/lib/python3.9/site-packages (from jupyter-client>=6.1.12->ipykernel>=4.5.1->ipywidgets) (6.6.0)\n",
      "Requirement already satisfied: python-dateutil>=2.8.2 in /Users/netanyajaison/miniforge3/lib/python3.9/site-packages (from jupyter-client>=6.1.12->ipykernel>=4.5.1->ipywidgets) (2.8.2)\n",
      "Requirement already satisfied: platformdirs>=2.5 in /Users/netanyajaison/miniforge3/lib/python3.9/site-packages (from jupyter-core!=5.0.*,>=4.12->ipykernel>=4.5.1->ipywidgets) (3.5.1)\n",
      "Requirement already satisfied: ptyprocess>=0.5 in /Users/netanyajaison/miniforge3/lib/python3.9/site-packages (from pexpect>4.3->ipython>=6.1.0->ipywidgets) (0.7.0)\n",
      "Requirement already satisfied: wcwidth in /Users/netanyajaison/miniforge3/lib/python3.9/site-packages (from prompt-toolkit!=3.0.37,<3.1.0,>=3.0.30->ipython>=6.1.0->ipywidgets) (0.2.6)\n",
      "Requirement already satisfied: executing>=1.2.0 in /Users/netanyajaison/miniforge3/lib/python3.9/site-packages (from stack-data->ipython>=6.1.0->ipywidgets) (1.2.0)\n",
      "Requirement already satisfied: asttokens>=2.1.0 in /Users/netanyajaison/miniforge3/lib/python3.9/site-packages (from stack-data->ipython>=6.1.0->ipywidgets) (2.2.1)\n",
      "Requirement already satisfied: pure-eval in /Users/netanyajaison/miniforge3/lib/python3.9/site-packages (from stack-data->ipython>=6.1.0->ipywidgets) (0.2.2)\n",
      "Requirement already satisfied: six in /Users/netanyajaison/miniforge3/lib/python3.9/site-packages (from asttokens>=2.1.0->stack-data->ipython>=6.1.0->ipywidgets) (1.16.0)\n",
      "Requirement already satisfied: zipp>=0.5 in /Users/netanyajaison/miniforge3/lib/python3.9/site-packages (from importlib-metadata>=4.8.3->jupyter-client>=6.1.12->ipykernel>=4.5.1->ipywidgets) (3.15.0)\n",
      "Note: you may need to restart the kernel to use updated packages.\n"
     ]
    }
   ],
   "source": [
    "pip install ipywidgets\n"
   ]
  },
  {
   "cell_type": "code",
   "execution_count": 10,
   "id": "bf80da6f",
   "metadata": {},
   "outputs": [
    {
     "name": "stdout",
     "output_type": "stream",
     "text": [
      "Requirement already satisfied: IPython in /Users/netanyajaison/miniforge3/lib/python3.9/site-packages (8.13.2)\n",
      "Requirement already satisfied: backcall in /Users/netanyajaison/miniforge3/lib/python3.9/site-packages (from IPython) (0.2.0)\n",
      "Requirement already satisfied: decorator in /Users/netanyajaison/miniforge3/lib/python3.9/site-packages (from IPython) (5.1.1)\n",
      "Requirement already satisfied: jedi>=0.16 in /Users/netanyajaison/miniforge3/lib/python3.9/site-packages (from IPython) (0.18.2)\n",
      "Requirement already satisfied: matplotlib-inline in /Users/netanyajaison/miniforge3/lib/python3.9/site-packages (from IPython) (0.1.6)\n",
      "Requirement already satisfied: pickleshare in /Users/netanyajaison/miniforge3/lib/python3.9/site-packages (from IPython) (0.7.5)\n",
      "Requirement already satisfied: prompt-toolkit!=3.0.37,<3.1.0,>=3.0.30 in /Users/netanyajaison/miniforge3/lib/python3.9/site-packages (from IPython) (3.0.38)\n",
      "Requirement already satisfied: pygments>=2.4.0 in /Users/netanyajaison/miniforge3/lib/python3.9/site-packages (from IPython) (2.15.1)\n",
      "Requirement already satisfied: stack-data in /Users/netanyajaison/miniforge3/lib/python3.9/site-packages (from IPython) (0.6.2)\n",
      "Requirement already satisfied: traitlets>=5 in /Users/netanyajaison/miniforge3/lib/python3.9/site-packages (from IPython) (5.9.0)\n",
      "Requirement already satisfied: typing-extensions in /Users/netanyajaison/miniforge3/lib/python3.9/site-packages (from IPython) (4.6.2)\n",
      "Requirement already satisfied: pexpect>4.3 in /Users/netanyajaison/miniforge3/lib/python3.9/site-packages (from IPython) (4.8.0)\n",
      "Requirement already satisfied: appnope in /Users/netanyajaison/miniforge3/lib/python3.9/site-packages (from IPython) (0.1.3)\n",
      "Requirement already satisfied: parso<0.9.0,>=0.8.0 in /Users/netanyajaison/miniforge3/lib/python3.9/site-packages (from jedi>=0.16->IPython) (0.8.3)\n",
      "Requirement already satisfied: ptyprocess>=0.5 in /Users/netanyajaison/miniforge3/lib/python3.9/site-packages (from pexpect>4.3->IPython) (0.7.0)\n",
      "Requirement already satisfied: wcwidth in /Users/netanyajaison/miniforge3/lib/python3.9/site-packages (from prompt-toolkit!=3.0.37,<3.1.0,>=3.0.30->IPython) (0.2.6)\n",
      "Requirement already satisfied: executing>=1.2.0 in /Users/netanyajaison/miniforge3/lib/python3.9/site-packages (from stack-data->IPython) (1.2.0)\n",
      "Requirement already satisfied: asttokens>=2.1.0 in /Users/netanyajaison/miniforge3/lib/python3.9/site-packages (from stack-data->IPython) (2.2.1)\n",
      "Requirement already satisfied: pure-eval in /Users/netanyajaison/miniforge3/lib/python3.9/site-packages (from stack-data->IPython) (0.2.2)\n",
      "Requirement already satisfied: six in /Users/netanyajaison/miniforge3/lib/python3.9/site-packages (from asttokens>=2.1.0->stack-data->IPython) (1.16.0)\n",
      "Note: you may need to restart the kernel to use updated packages.\n"
     ]
    }
   ],
   "source": [
    "pip install IPython"
   ]
  },
  {
   "cell_type": "code",
   "execution_count": 11,
   "id": "4ba42499",
   "metadata": {
    "scrolled": true
   },
   "outputs": [
    {
     "data": {
      "application/vnd.jupyter.widget-view+json": {
       "model_id": "72fa4f669dd94fdeb95f7b25952fcc5d",
       "version_major": 2,
       "version_minor": 0
      },
      "text/plain": [
       "Text(value='', description='Skill:', placeholder='Enter skill :')"
      ]
     },
     "metadata": {},
     "output_type": "display_data"
    },
    {
     "data": {
      "application/vnd.jupyter.widget-view+json": {
       "model_id": "3b5c0ca16842432d92e58df1ef10302d",
       "version_major": 2,
       "version_minor": 0
      },
      "text/plain": [
       "Output()"
      ]
     },
     "metadata": {},
     "output_type": "display_data"
    }
   ],
   "source": [
    "import ipywidgets as widgets\n",
    "from IPython.display import display\n",
    "\n",
    "skill_input = widgets.Text(\n",
    "    #value = 'Git',\n",
    "    placeholder = 'Enter skill :',\n",
    "    description = 'Skill:',\n",
    "    disabled = False\n",
    ")\n",
    "\n",
    "courses_list = widgets.Output()\n",
    "\n",
    "def on_type(data):\n",
    "    with courses_list:\n",
    "        courses_list.clear_output()\n",
    "        skill = data[\"new\"]\n",
    "        if len(skill) > 0:\n",
    "            display(search(skill))\n",
    "\n",
    "skill_input.observe(on_type, names='value')\n",
    "\n",
    "\n",
    "display(skill_input, courses_list)"
   ]
  },
  {
   "cell_type": "code",
   "execution_count": 29,
   "id": "8dac3bc6",
   "metadata": {},
   "outputs": [],
   "source": [
    "def recommendation(skill):\n",
    "    recommendation = courses[courses[\"skill\"] == skill][\"recommendation\"].values\n",
    "    if len(recommendation) > 0:\n",
    "        return recommendation\n",
    "    else:\n",
    "        return None\n"
   ]
  },
  {
   "cell_type": "code",
   "execution_count": 19,
   "id": "18e779ed",
   "metadata": {},
   "outputs": [],
   "source": [
    "#def extract_recommendation(output):\n",
    "   # recommendation = None\n",
    "    #for widget in output.children:\n",
    "       # if isinstance(widget, widgets.Output):\n",
    "       #     for item in widget.outputs:\n",
    "       #         if item.output_type == \"stream\" and item.text.startswith(\"Recommendation:\"):\n",
    "       #             recommendation = item.text.split(\"Recommendation:\")[1].strip()\n",
    "    #return recommendation\n"
   ]
  },
  {
   "cell_type": "code",
   "execution_count": null,
   "id": "23140fb7",
   "metadata": {},
   "outputs": [],
   "source": []
  },
  {
   "cell_type": "code",
   "execution_count": null,
   "id": "4e649673",
   "metadata": {},
   "outputs": [],
   "source": []
  }
 ],
 "metadata": {
  "kernelspec": {
   "display_name": "Python 3 (ipykernel)",
   "language": "python",
   "name": "python3"
  },
  "language_info": {
   "codemirror_mode": {
    "name": "ipython",
    "version": 3
   },
   "file_extension": ".py",
   "mimetype": "text/x-python",
   "name": "python",
   "nbconvert_exporter": "python",
   "pygments_lexer": "ipython3",
   "version": "3.9.13"
  }
 },
 "nbformat": 4,
 "nbformat_minor": 5
}
